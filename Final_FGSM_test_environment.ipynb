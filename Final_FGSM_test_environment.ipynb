import os
import numpy as np
import matplotlib.pyplot as plt
import torchvision.models as models
import torch
import torch.nn as nn
import torch.nn.functional as F
from torchvision import datasets, transforms
from torch.utils.data import DataLoader

device = torch.device("cuda" if torch.cuda.is_available() else "cpu")
print(f"Using device: {device}")

net = models.resnet18(weights=None, num_classes=10)
try:
    net.load_state_dict(torch.load('/content/masked_model_(12.5).pth', map_location=device))
    net.to(device)
    net.eval()
except FileNotFoundError:
    print("Error: Model file not found. Ensure '/content/image_recognition_model.pth' exists.")
    exit(1)

epsilon = 0.01

def fgsm_attack(model, data, epsilon):
    data = data.clone().detach().to(device)  # Ensure data is detached and on the correct device
    data.requires_grad = True

    output = model(data)
    loss = F.cross_entropy(output, output.argmax(dim=1))  # Maximize loss for the predicted class

    model.zero_grad()
    loss.backward()

    perturbed_data = data + epsilon * data.grad.sign()

    perturbed_data = torch.clamp(perturbed_data, 0, 1)

    return perturbed_data


def save_image_with_classification(image_data, classification, filepath):
    image = np.transpose(image_data.squeeze(0).detach().cpu().numpy(), (1, 2, 0))
    image = np.clip(image, 0, 1)
    plt.imshow(image)
    plt.title(classification)
    plt.axis('off')
    plt.savefig(filepath)
    plt.close()

class_names = datasets.CIFAR10(root='./data', train=True, download=True).classes

# Data transformation and loading
transform = transforms.Compose([
    transforms.ToTensor(),
    transforms.Normalize((0.5, 0.5, 0.5), (0.5, 0.5, 0.5))
])
test_data = datasets.CIFAR10(root='./data', train=False, download=True, transform=transform)
test_loader = DataLoader(test_data, batch_size=1, shuffle=True)

num_images = 300
output_dir = './output_images'
os.makedirs(output_dir, exist_ok=True)

all_labels = []
all_original_preds = []
all_adversarial_preds = []
correct_original = 0
correct_adversarial = 0
num_perturbed_images = 0

for i, (data, target) in enumerate(test_loader):
    if i >= num_images:
        break

    data, target = data.to(device), target.to(device)
    all_labels.append(target.item())

    # Original prediction
    with torch.no_grad():
        output = net(data)
    original_pred = output.argmax(dim=1).item()
    all_original_preds.append(original_pred)
    correct_original += (original_pred == target.item())

    adversarial_data = fgsm_attack(net, data.clone(), epsilon=epsilon)

    num_perturbed_images += 1

    with torch.no_grad():
        output = net(adversarial_data)
    adversarial_pred = output.argmax(dim=1).item()
    correct_adversarial += (adversarial_pred == target.item())

accuracy_original = (correct_original / num_images) * 100
accuracy_adversarial = (correct_adversarial / num_perturbed_images) * 100

print(f"\nAccuracy on original images: {accuracy_original:.2f}%")
print(f"Accuracy on adversarial images (FGSM attack): {accuracy_adversarial:.2f}%")
