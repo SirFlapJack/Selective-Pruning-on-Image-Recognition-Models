import torch
import torch.nn as nn
import torch.optim as optim
from torchvision import datasets, transforms, models
from torch.utils.data import DataLoader
import matplotlib.pyplot as plt
import os

device = torch.device("cuda" if torch.cuda.is_available() else "cpu")
print(f"Using device: {device}")

transform = transforms.Compose([
    transforms.ToTensor(),
    transforms.Normalize((0.5,), (0.5,))
])
train_dataset = datasets.CIFAR10(root='./data', train=True, transform=transform, download=True)
test_dataset = datasets.CIFAR10(root='./data', train=False, transform=transform, download=True)

train_loader = DataLoader(train_dataset, batch_size=64, shuffle=True)
test_loader = DataLoader(test_dataset, batch_size=64, shuffle=False)

net = models.resnet18(weights=None, num_classes=10)
try:
    net.load_state_dict(torch.load('/content/masked_model_25.pth', map_location=device))
    net.eval()
    print("Model loaded successfully and set to evaluation mode.")
except FileNotFoundError:
    print("Error: Model file not found. Ensure '/content/image_recognition_model.pth' exists.")
    exit(1)
except RuntimeError as e:
    print(f"Error loading model: {e}")
    exit(1)

net.to(device)

for name, param in net.named_parameters():
    if not ('layer3' in name or 'layer4' in name or 'fc' in name):    #'layer3' not in name and 'layer4' not in name and 'fc' not in name:
        param.requires_grad = False

criterion = nn.CrossEntropyLoss()
optimizer = optim.SGD(filter(lambda p: p.requires_grad, net.parameters()), lr=0.01, momentum=0.9, weight_decay=5e-4)

def fine_tune_model(model, train_loader, epochs):
    model.train()
    for epoch in range(epochs):
        running_loss = 0.0
        for inputs, labels in train_loader:
            inputs, labels = inputs.to(device), labels.to(device)

            optimizer.zero_grad()
            outputs = model(inputs)
            loss = criterion(outputs, labels)
            loss.backward()
            optimizer.step()

            running_loss += loss.item()

        print(f"Epoch [{epoch + 1}/{epochs}], Loss: {running_loss / len(train_loader):.4f}")

fine_tune_model(net, train_loader, epochs=5)

torch.save(net.state_dict(), './masked_and_fine_tuned_model_25%_5epochs.pth')
print("Masked 25% and Fine-tuned model saved successfully.")


def evaluate_model(model, test_loader):
    model.eval()
    correct = 0
    total = 0
    with torch.no_grad():
        for inputs, labels in test_loader:
            inputs, labels = inputs.to(device), labels.to(device)
            outputs = model(inputs)
            _, predicted = torch.max(outputs, 1)
            total += labels.size(0)
            correct += (predicted == labels).sum().item()

    accuracy = 100 * correct / total
    print(f"Accuracy: {accuracy:.2f}%")
    return accuracy

print("\nEvaluating on test set after fine-tuning:")
evaluate_model(net, test_loader)
