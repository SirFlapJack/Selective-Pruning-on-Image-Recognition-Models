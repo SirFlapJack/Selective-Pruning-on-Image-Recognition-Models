import torch
import torch.nn as nn
import torch.optim as optim
from torchvision import datasets, transforms, models
from torch.utils.data import DataLoader
import matplotlib.pyplot as plt
import os

# Check for GPU availability
device = torch.device("cuda" if torch.cuda.is_available() else "cpu")
print(f"Using device: {device}")

# Load CIFAR-10 dataset
transform = transforms.Compose([
    transforms.ToTensor(),
    transforms.Normalize((0.5,), (0.5,))
])
train_dataset = datasets.CIFAR10(root='./data', train=True, transform=transform, download=True)
test_dataset = datasets.CIFAR10(root='./data', train=False, transform=transform, download=True)

train_loader = DataLoader(train_dataset, batch_size=64, shuffle=True)
test_loader = DataLoader(test_dataset, batch_size=64, shuffle=False)

# Load pre-trained ResNet-18 model
net = models.resnet18(weights=None, num_classes=10)
try:
    net.load_state_dict(torch.load('/content/image_recognition_model.pth', map_location=device))
    net.eval()
    print("Model loaded successfully and set to evaluation mode.")
except FileNotFoundError:
    print("Error: Model file not found. Ensure '/content/image_recognition_model.pth' exists.")
    exit(1)
except RuntimeError as e:
    print(f"Error loading model: {e}")
    exit(1)

net.to(device)

# Define the pruned model with identity layer
class ModifiedResNet18(nn.Module):
    def __init__(self, original_model):
        super(ModifiedResNet18, self).__init__()
        self.features = nn.ModuleDict(original_model.named_children())
        self.features['layer1'][1].conv1 = nn.Identity()

    def forward(self, x):
        x = self.features['conv1'](x)
        x = self.features['bn1'](x)
        x = self.features['relu'](x)
        x = self.features['maxpool'](x)
        x = self.features['layer1'](x)
        x = self.features['layer2'](x)
        x = self.features['layer3'](x)
        x = self.features['layer4'](x)
        x = self.features['avgpool'](x)
        x = torch.flatten(x, 1)
        x = self.features['fc'](x)
        return x

pruned_model = ModifiedResNet18(net).to(device)

# Freeze all layers except the higher layers
for name, param in pruned_model.named_parameters():
    if 'layer3' not in name and 'layer4' not in name and 'fc' not in name:
        param.requires_grad = False

# Define the optimizer and loss function
criterion = nn.CrossEntropyLoss()
optimizer = optim.SGD(filter(lambda p: p.requires_grad, pruned_model.parameters()), lr=0.01, momentum=0.9, weight_decay=5e-4)

# Fine-tuning the higher layers
def fine_tune_model(model, train_loader, epochs):
    model.train()
    for epoch in range(epochs):
        running_loss = 0.0
        for inputs, labels in train_loader:
            inputs, labels = inputs.to(device), labels.to(device)

            optimizer.zero_grad()
            outputs = model(inputs)
            loss = criterion(outputs, labels)
            loss.backward()
            optimizer.step()

            running_loss += loss.item()

        print(f"Epoch [{epoch + 1}/{epochs}], Loss: {running_loss / len(train_loader):.4f}")

fine_tune_model(pruned_model, train_loader, epochs=10)

# Save the fine-tuned model
torch.save(pruned_model.state_dict(), './fine_tuned_pruned_resnet18.pth')
print("Fine-tuned pruned model saved successfully.")

# Evaluate the model
def evaluate_model(model, test_loader):
    model.eval()
    correct = 0
    total = 0
    with torch.no_grad():
        for inputs, labels in test_loader:
            inputs, labels = inputs.to(device), labels.to(device)
            outputs = model(inputs)
            _, predicted = torch.max(outputs, 1)
            total += labels.size(0)
            correct += (predicted == labels).sum().item()

    accuracy = 100 * correct / total
    print(f"Accuracy: {accuracy:.2f}%")
    return accuracy

# Test the fine-tuned model
print("\nEvaluating on test set after fine-tuning:")
evaluate_model(pruned_model, test_loader)
